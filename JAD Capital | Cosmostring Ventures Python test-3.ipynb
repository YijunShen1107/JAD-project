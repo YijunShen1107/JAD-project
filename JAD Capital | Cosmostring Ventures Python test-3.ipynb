{
 "cells": [
  {
   "cell_type": "code",
   "execution_count": 178,
   "id": "c20c3cf9",
   "metadata": {},
   "outputs": [],
   "source": [
    "import pandas as pd\n",
    "import numpy as np\n",
    "import matplotlib.pyplot as plt\n",
    "import datetime\n",
    "from sklearn.linear_model import LinearRegression"
   ]
  },
  {
   "cell_type": "markdown",
   "id": "948391dd",
   "metadata": {},
   "source": [
    "# 1. Data Acquisition"
   ]
  },
  {
   "cell_type": "code",
   "execution_count": 179,
   "id": "11881f71",
   "metadata": {},
   "outputs": [
    {
     "name": "stdout",
     "output_type": "stream",
     "text": [
      "<class 'pandas.core.frame.DataFrame'>\n",
      "DatetimeIndex: 2674 entries, 2010-01-04 to 2020-12-31\n",
      "Columns: 500 entries, 000009.SZ to 688536.SH\n",
      "dtypes: float64(500)\n",
      "memory usage: 10.2 MB\n"
     ]
    }
   ],
   "source": [
    "df = pd.read_csv(\"/Users/yijunshen/close.csv\", index_col = 0)\n",
    "df.index = pd.to_datetime(df.index, format='%Y%m%d')\n",
    "df.info()"
   ]
  },
  {
   "cell_type": "code",
   "execution_count": 17,
   "id": "0e18722b",
   "metadata": {},
   "outputs": [
    {
     "data": {
      "text/html": [
       "<div>\n",
       "<style scoped>\n",
       "    .dataframe tbody tr th:only-of-type {\n",
       "        vertical-align: middle;\n",
       "    }\n",
       "\n",
       "    .dataframe tbody tr th {\n",
       "        vertical-align: top;\n",
       "    }\n",
       "\n",
       "    .dataframe thead th {\n",
       "        text-align: right;\n",
       "    }\n",
       "</style>\n",
       "<table border=\"1\" class=\"dataframe\">\n",
       "  <thead>\n",
       "    <tr style=\"text-align: right;\">\n",
       "      <th></th>\n",
       "      <th>000009.SZ</th>\n",
       "      <th>000012.SZ</th>\n",
       "      <th>000021.SZ</th>\n",
       "      <th>000027.SZ</th>\n",
       "      <th>000028.SZ</th>\n",
       "      <th>000031.SZ</th>\n",
       "      <th>000039.SZ</th>\n",
       "      <th>000046.SZ</th>\n",
       "      <th>000050.SZ</th>\n",
       "      <th>000060.SZ</th>\n",
       "      <th>...</th>\n",
       "      <th>688029.SH</th>\n",
       "      <th>688065.SH</th>\n",
       "      <th>688088.SH</th>\n",
       "      <th>688099.SH</th>\n",
       "      <th>688188.SH</th>\n",
       "      <th>688208.SH</th>\n",
       "      <th>688289.SH</th>\n",
       "      <th>688321.SH</th>\n",
       "      <th>688521.SH</th>\n",
       "      <th>688536.SH</th>\n",
       "    </tr>\n",
       "  </thead>\n",
       "  <tbody>\n",
       "    <tr>\n",
       "      <th>2010-01-04</th>\n",
       "      <td>10.84</td>\n",
       "      <td>19.41</td>\n",
       "      <td>13.10</td>\n",
       "      <td>13.41</td>\n",
       "      <td>27.56</td>\n",
       "      <td>10.97</td>\n",
       "      <td>13.09</td>\n",
       "      <td>13.84</td>\n",
       "      <td>6.75</td>\n",
       "      <td>28.20</td>\n",
       "      <td>...</td>\n",
       "      <td>NaN</td>\n",
       "      <td>NaN</td>\n",
       "      <td>NaN</td>\n",
       "      <td>NaN</td>\n",
       "      <td>NaN</td>\n",
       "      <td>NaN</td>\n",
       "      <td>NaN</td>\n",
       "      <td>NaN</td>\n",
       "      <td>NaN</td>\n",
       "      <td>NaN</td>\n",
       "    </tr>\n",
       "    <tr>\n",
       "      <th>2010-01-05</th>\n",
       "      <td>10.56</td>\n",
       "      <td>19.08</td>\n",
       "      <td>13.40</td>\n",
       "      <td>13.40</td>\n",
       "      <td>28.31</td>\n",
       "      <td>10.74</td>\n",
       "      <td>13.27</td>\n",
       "      <td>13.36</td>\n",
       "      <td>6.94</td>\n",
       "      <td>29.55</td>\n",
       "      <td>...</td>\n",
       "      <td>NaN</td>\n",
       "      <td>NaN</td>\n",
       "      <td>NaN</td>\n",
       "      <td>NaN</td>\n",
       "      <td>NaN</td>\n",
       "      <td>NaN</td>\n",
       "      <td>NaN</td>\n",
       "      <td>NaN</td>\n",
       "      <td>NaN</td>\n",
       "      <td>NaN</td>\n",
       "    </tr>\n",
       "    <tr>\n",
       "      <th>2010-01-06</th>\n",
       "      <td>10.55</td>\n",
       "      <td>19.67</td>\n",
       "      <td>13.31</td>\n",
       "      <td>13.38</td>\n",
       "      <td>28.75</td>\n",
       "      <td>10.76</td>\n",
       "      <td>13.51</td>\n",
       "      <td>13.37</td>\n",
       "      <td>6.76</td>\n",
       "      <td>30.18</td>\n",
       "      <td>...</td>\n",
       "      <td>NaN</td>\n",
       "      <td>NaN</td>\n",
       "      <td>NaN</td>\n",
       "      <td>NaN</td>\n",
       "      <td>NaN</td>\n",
       "      <td>NaN</td>\n",
       "      <td>NaN</td>\n",
       "      <td>NaN</td>\n",
       "      <td>NaN</td>\n",
       "      <td>NaN</td>\n",
       "    </tr>\n",
       "    <tr>\n",
       "      <th>2010-01-07</th>\n",
       "      <td>10.75</td>\n",
       "      <td>18.63</td>\n",
       "      <td>13.48</td>\n",
       "      <td>13.08</td>\n",
       "      <td>27.48</td>\n",
       "      <td>10.90</td>\n",
       "      <td>13.30</td>\n",
       "      <td>13.19</td>\n",
       "      <td>6.50</td>\n",
       "      <td>29.55</td>\n",
       "      <td>...</td>\n",
       "      <td>NaN</td>\n",
       "      <td>NaN</td>\n",
       "      <td>NaN</td>\n",
       "      <td>NaN</td>\n",
       "      <td>NaN</td>\n",
       "      <td>NaN</td>\n",
       "      <td>NaN</td>\n",
       "      <td>NaN</td>\n",
       "      <td>NaN</td>\n",
       "      <td>NaN</td>\n",
       "    </tr>\n",
       "    <tr>\n",
       "      <th>2010-01-08</th>\n",
       "      <td>11.27</td>\n",
       "      <td>18.43</td>\n",
       "      <td>13.46</td>\n",
       "      <td>13.23</td>\n",
       "      <td>26.95</td>\n",
       "      <td>10.99</td>\n",
       "      <td>13.32</td>\n",
       "      <td>13.30</td>\n",
       "      <td>6.67</td>\n",
       "      <td>29.19</td>\n",
       "      <td>...</td>\n",
       "      <td>NaN</td>\n",
       "      <td>NaN</td>\n",
       "      <td>NaN</td>\n",
       "      <td>NaN</td>\n",
       "      <td>NaN</td>\n",
       "      <td>NaN</td>\n",
       "      <td>NaN</td>\n",
       "      <td>NaN</td>\n",
       "      <td>NaN</td>\n",
       "      <td>NaN</td>\n",
       "    </tr>\n",
       "  </tbody>\n",
       "</table>\n",
       "<p>5 rows × 500 columns</p>\n",
       "</div>"
      ],
      "text/plain": [
       "            000009.SZ  000012.SZ  000021.SZ  000027.SZ  000028.SZ  000031.SZ  \\\n",
       "2010-01-04      10.84      19.41      13.10      13.41      27.56      10.97   \n",
       "2010-01-05      10.56      19.08      13.40      13.40      28.31      10.74   \n",
       "2010-01-06      10.55      19.67      13.31      13.38      28.75      10.76   \n",
       "2010-01-07      10.75      18.63      13.48      13.08      27.48      10.90   \n",
       "2010-01-08      11.27      18.43      13.46      13.23      26.95      10.99   \n",
       "\n",
       "            000039.SZ  000046.SZ  000050.SZ  000060.SZ  ...  688029.SH  \\\n",
       "2010-01-04      13.09      13.84       6.75      28.20  ...        NaN   \n",
       "2010-01-05      13.27      13.36       6.94      29.55  ...        NaN   \n",
       "2010-01-06      13.51      13.37       6.76      30.18  ...        NaN   \n",
       "2010-01-07      13.30      13.19       6.50      29.55  ...        NaN   \n",
       "2010-01-08      13.32      13.30       6.67      29.19  ...        NaN   \n",
       "\n",
       "            688065.SH  688088.SH  688099.SH  688188.SH  688208.SH  688289.SH  \\\n",
       "2010-01-04        NaN        NaN        NaN        NaN        NaN        NaN   \n",
       "2010-01-05        NaN        NaN        NaN        NaN        NaN        NaN   \n",
       "2010-01-06        NaN        NaN        NaN        NaN        NaN        NaN   \n",
       "2010-01-07        NaN        NaN        NaN        NaN        NaN        NaN   \n",
       "2010-01-08        NaN        NaN        NaN        NaN        NaN        NaN   \n",
       "\n",
       "            688321.SH  688521.SH  688536.SH  \n",
       "2010-01-04        NaN        NaN        NaN  \n",
       "2010-01-05        NaN        NaN        NaN  \n",
       "2010-01-06        NaN        NaN        NaN  \n",
       "2010-01-07        NaN        NaN        NaN  \n",
       "2010-01-08        NaN        NaN        NaN  \n",
       "\n",
       "[5 rows x 500 columns]"
      ]
     },
     "execution_count": 17,
     "metadata": {},
     "output_type": "execute_result"
    }
   ],
   "source": [
    "df.head()"
   ]
  },
  {
   "cell_type": "markdown",
   "id": "7501c03e",
   "metadata": {},
   "source": [
    "### Q1. Missing rate for each stock "
   ]
  },
  {
   "cell_type": "code",
   "execution_count": 18,
   "id": "73003aeb",
   "metadata": {},
   "outputs": [
    {
     "data": {
      "text/plain": [
       "000009.SZ    0.041137\n",
       "000012.SZ    0.016829\n",
       "000021.SZ    0.011593\n",
       "000027.SZ    0.018699\n",
       "000028.SZ    0.047494\n",
       "               ...   \n",
       "688208.SH    0.917726\n",
       "688289.SH    0.968212\n",
       "688321.SH    0.872850\n",
       "688521.SH    0.965221\n",
       "688536.SH    0.974196\n",
       "Length: 500, dtype: float64"
      ]
     },
     "execution_count": 18,
     "metadata": {},
     "output_type": "execute_result"
    }
   ],
   "source": [
    "#generate missing rate\n",
    "missing_rate = df[1:].isnull().sum()/df.shape[0]\n",
    "missing_rate"
   ]
  },
  {
   "cell_type": "code",
   "execution_count": 19,
   "id": "0f86874c",
   "metadata": {},
   "outputs": [
    {
     "data": {
      "image/png": "[encoded data removed]",
      "text/plain": [
       "<Figure size 1440x720 with 1 Axes>"
      ]
     },
     "metadata": {
      "needs_background": "light"
     },
     "output_type": "display_data"
    }
   ],
   "source": [
    "#plot the histogram\n",
    "fig = plt.figure(figsize=(20,10))\n",
    "plt.hist(missing_rate, density=True, bins=100)\n",
    "plt.xlabel('Missing rate')\n",
    "plt.ylabel('Number of stocks')\n",
    "plt.show()"
   ]
  },
  {
   "cell_type": "markdown",
   "id": "6d3038bc",
   "metadata": {},
   "source": [
    "### Q2. Missing rate for each trading day"
   ]
  },
  {
   "cell_type": "code",
   "execution_count": 20,
   "id": "c4f12e08",
   "metadata": {},
   "outputs": [
    {
     "data": {
      "text/html": [
       "<div>\n",
       "<style scoped>\n",
       "    .dataframe tbody tr th:only-of-type {\n",
       "        vertical-align: middle;\n",
       "    }\n",
       "\n",
       "    .dataframe tbody tr th {\n",
       "        vertical-align: top;\n",
       "    }\n",
       "\n",
       "    .dataframe thead th {\n",
       "        text-align: right;\n",
       "    }\n",
       "</style>\n",
       "<table border=\"1\" class=\"dataframe\">\n",
       "  <thead>\n",
       "    <tr style=\"text-align: right;\">\n",
       "      <th></th>\n",
       "      <th>Missing_rate</th>\n",
       "    </tr>\n",
       "  </thead>\n",
       "  <tbody>\n",
       "    <tr>\n",
       "      <th>2010-01-04</th>\n",
       "      <td>0.436</td>\n",
       "    </tr>\n",
       "    <tr>\n",
       "      <th>2010-01-05</th>\n",
       "      <td>0.442</td>\n",
       "    </tr>\n",
       "    <tr>\n",
       "      <th>2010-01-06</th>\n",
       "      <td>0.440</td>\n",
       "    </tr>\n",
       "    <tr>\n",
       "      <th>2010-01-07</th>\n",
       "      <td>0.434</td>\n",
       "    </tr>\n",
       "    <tr>\n",
       "      <th>2010-01-08</th>\n",
       "      <td>0.442</td>\n",
       "    </tr>\n",
       "    <tr>\n",
       "      <th>...</th>\n",
       "      <td>...</td>\n",
       "    </tr>\n",
       "    <tr>\n",
       "      <th>2020-12-25</th>\n",
       "      <td>0.010</td>\n",
       "    </tr>\n",
       "    <tr>\n",
       "      <th>2020-12-28</th>\n",
       "      <td>0.012</td>\n",
       "    </tr>\n",
       "    <tr>\n",
       "      <th>2020-12-29</th>\n",
       "      <td>0.010</td>\n",
       "    </tr>\n",
       "    <tr>\n",
       "      <th>2020-12-30</th>\n",
       "      <td>0.012</td>\n",
       "    </tr>\n",
       "    <tr>\n",
       "      <th>2020-12-31</th>\n",
       "      <td>0.012</td>\n",
       "    </tr>\n",
       "  </tbody>\n",
       "</table>\n",
       "<p>2674 rows × 1 columns</p>\n",
       "</div>"
      ],
      "text/plain": [
       "            Missing_rate\n",
       "2010-01-04         0.436\n",
       "2010-01-05         0.442\n",
       "2010-01-06         0.440\n",
       "2010-01-07         0.434\n",
       "2010-01-08         0.442\n",
       "...                  ...\n",
       "2020-12-25         0.010\n",
       "2020-12-28         0.012\n",
       "2020-12-29         0.010\n",
       "2020-12-30         0.012\n",
       "2020-12-31         0.012\n",
       "\n",
       "[2674 rows x 1 columns]"
      ]
     },
     "execution_count": 20,
     "metadata": {},
     "output_type": "execute_result"
    }
   ],
   "source": [
    "missing_rate_eachday = df.isnull().sum(axis = 1)/500\n",
    "missing_rate_eachday = pd.DataFrame(missing_rate_eachday, columns = ['Missing_rate'], index=df.index)\n",
    "missing_rate_eachday"
   ]
  },
  {
   "cell_type": "code",
   "execution_count": 21,
   "id": "6949a50d",
   "metadata": {},
   "outputs": [
    {
     "data": {
      "text/plain": [
       "<matplotlib.legend.Legend at 0x7f8737c70c10>"
      ]
     },
     "execution_count": 21,
     "metadata": {},
     "output_type": "execute_result"
    },
    {
     "data": {
      "image/png": "[encoded data removed]",
      "text/plain": [
       "<Figure size 1440x720 with 1 Axes>"
      ]
     },
     "metadata": {
      "needs_background": "light"
     },
     "output_type": "display_data"
    }
   ],
   "source": [
    "fig = plt.figure(figsize=(20,10))\n",
    "plt.plot(missing_rate_eachday,label='Date')\n",
    "plt.xlabel('Date')\n",
    "plt.ylabel('Missing rate daily change')\n",
    "plt.legend()"
   ]
  },
  {
   "cell_type": "markdown",
   "id": "63a611b2",
   "metadata": {},
   "source": [
    "# 2. Basic Strategy"
   ]
  },
  {
   "cell_type": "markdown",
   "id": "4727d96e",
   "metadata": {},
   "source": [
    "### 2.1. Determine Strategy Weights"
   ]
  },
  {
   "cell_type": "code",
   "execution_count": 191,
   "id": "76989fd9",
   "metadata": {},
   "outputs": [],
   "source": [
    "#generate 22-day moving average price of stock and 5-day moving average price of stock\n",
    "#and generate signal using def function\n",
    "def SW_signalgenerator(df, ma1, ma2):\n",
    "    #ma2 is the ma with more days\n",
    "    #for the input ma1, ma2, we just need to plug in number of days we need for each moving average\n",
    "    ma1 = df.rolling(ma1).mean().dropna(axis = 0, how ='all')\n",
    "    ma2 = df.rolling(ma2).mean().dropna(axis = 0, how = 'all')\n",
    "    signal = (np.log(ma2)-np.log(ma1)).dropna(axis = 0, how = 'all')\n",
    "    #normalize signal\n",
    "    norm_sign = 0.02*((signal.T - signal.mean(axis = 1))/signal.std(axis=1)).T\n",
    "    return norm_sign"
   ]
  },
  {
   "cell_type": "code",
   "execution_count": 192,
   "id": "da028ddb",
   "metadata": {},
   "outputs": [
    {
     "data": {
      "text/html": [
       "<div>\n",
       "<style scoped>\n",
       "    .dataframe tbody tr th:only-of-type {\n",
       "        vertical-align: middle;\n",
       "    }\n",
       "\n",
       "    .dataframe tbody tr th {\n",
       "        vertical-align: top;\n",
       "    }\n",
       "\n",
       "    .dataframe thead th {\n",
       "        text-align: right;\n",
       "    }\n",
       "</style>\n",
       "<table border=\"1\" class=\"dataframe\">\n",
       "  <thead>\n",
       "    <tr style=\"text-align: right;\">\n",
       "      <th></th>\n",
       "      <th>000009.SZ</th>\n",
       "      <th>000012.SZ</th>\n",
       "      <th>000021.SZ</th>\n",
       "      <th>000027.SZ</th>\n",
       "      <th>000028.SZ</th>\n",
       "      <th>000031.SZ</th>\n",
       "      <th>000039.SZ</th>\n",
       "      <th>000046.SZ</th>\n",
       "      <th>000050.SZ</th>\n",
       "      <th>000060.SZ</th>\n",
       "      <th>...</th>\n",
       "      <th>688029.SH</th>\n",
       "      <th>688065.SH</th>\n",
       "      <th>688088.SH</th>\n",
       "      <th>688099.SH</th>\n",
       "      <th>688188.SH</th>\n",
       "      <th>688208.SH</th>\n",
       "      <th>688289.SH</th>\n",
       "      <th>688321.SH</th>\n",
       "      <th>688521.SH</th>\n",
       "      <th>688536.SH</th>\n",
       "    </tr>\n",
       "  </thead>\n",
       "  <tbody>\n",
       "    <tr>\n",
       "      <th>2010-02-02</th>\n",
       "      <td>-0.002909</td>\n",
       "      <td>-0.001858</td>\n",
       "      <td>0.004089</td>\n",
       "      <td>-0.000981</td>\n",
       "      <td>-0.044177</td>\n",
       "      <td>0.013109</td>\n",
       "      <td>-0.012559</td>\n",
       "      <td>-0.006464</td>\n",
       "      <td>-0.006822</td>\n",
       "      <td>0.039905</td>\n",
       "      <td>...</td>\n",
       "      <td>NaN</td>\n",
       "      <td>NaN</td>\n",
       "      <td>NaN</td>\n",
       "      <td>NaN</td>\n",
       "      <td>NaN</td>\n",
       "      <td>NaN</td>\n",
       "      <td>NaN</td>\n",
       "      <td>NaN</td>\n",
       "      <td>NaN</td>\n",
       "      <td>NaN</td>\n",
       "    </tr>\n",
       "    <tr>\n",
       "      <th>2010-02-03</th>\n",
       "      <td>-0.004131</td>\n",
       "      <td>-0.003074</td>\n",
       "      <td>0.005916</td>\n",
       "      <td>-0.003084</td>\n",
       "      <td>-0.047806</td>\n",
       "      <td>0.010980</td>\n",
       "      <td>-0.015025</td>\n",
       "      <td>-0.008957</td>\n",
       "      <td>-0.009744</td>\n",
       "      <td>0.037082</td>\n",
       "      <td>...</td>\n",
       "      <td>NaN</td>\n",
       "      <td>NaN</td>\n",
       "      <td>NaN</td>\n",
       "      <td>NaN</td>\n",
       "      <td>NaN</td>\n",
       "      <td>NaN</td>\n",
       "      <td>NaN</td>\n",
       "      <td>NaN</td>\n",
       "      <td>NaN</td>\n",
       "      <td>NaN</td>\n",
       "    </tr>\n",
       "    <tr>\n",
       "      <th>2010-02-04</th>\n",
       "      <td>-0.010157</td>\n",
       "      <td>-0.001923</td>\n",
       "      <td>0.008865</td>\n",
       "      <td>-0.003634</td>\n",
       "      <td>-0.046599</td>\n",
       "      <td>0.008418</td>\n",
       "      <td>-0.015752</td>\n",
       "      <td>-0.009722</td>\n",
       "      <td>-0.015833</td>\n",
       "      <td>0.030980</td>\n",
       "      <td>...</td>\n",
       "      <td>NaN</td>\n",
       "      <td>NaN</td>\n",
       "      <td>NaN</td>\n",
       "      <td>NaN</td>\n",
       "      <td>NaN</td>\n",
       "      <td>NaN</td>\n",
       "      <td>NaN</td>\n",
       "      <td>NaN</td>\n",
       "      <td>NaN</td>\n",
       "      <td>NaN</td>\n",
       "    </tr>\n",
       "    <tr>\n",
       "      <th>2010-02-05</th>\n",
       "      <td>-0.015333</td>\n",
       "      <td>-0.000912</td>\n",
       "      <td>0.012307</td>\n",
       "      <td>-0.004790</td>\n",
       "      <td>-0.043074</td>\n",
       "      <td>0.005993</td>\n",
       "      <td>-0.015294</td>\n",
       "      <td>-0.010377</td>\n",
       "      <td>-0.017172</td>\n",
       "      <td>0.025633</td>\n",
       "      <td>...</td>\n",
       "      <td>NaN</td>\n",
       "      <td>NaN</td>\n",
       "      <td>NaN</td>\n",
       "      <td>NaN</td>\n",
       "      <td>NaN</td>\n",
       "      <td>NaN</td>\n",
       "      <td>NaN</td>\n",
       "      <td>NaN</td>\n",
       "      <td>NaN</td>\n",
       "      <td>NaN</td>\n",
       "    </tr>\n",
       "    <tr>\n",
       "      <th>2010-02-08</th>\n",
       "      <td>-0.017936</td>\n",
       "      <td>-0.001128</td>\n",
       "      <td>0.012307</td>\n",
       "      <td>-0.005816</td>\n",
       "      <td>-0.036697</td>\n",
       "      <td>0.006069</td>\n",
       "      <td>-0.015249</td>\n",
       "      <td>NaN</td>\n",
       "      <td>-0.022609</td>\n",
       "      <td>0.023156</td>\n",
       "      <td>...</td>\n",
       "      <td>NaN</td>\n",
       "      <td>NaN</td>\n",
       "      <td>NaN</td>\n",
       "      <td>NaN</td>\n",
       "      <td>NaN</td>\n",
       "      <td>NaN</td>\n",
       "      <td>NaN</td>\n",
       "      <td>NaN</td>\n",
       "      <td>NaN</td>\n",
       "      <td>NaN</td>\n",
       "    </tr>\n",
       "    <tr>\n",
       "      <th>...</th>\n",
       "      <td>...</td>\n",
       "      <td>...</td>\n",
       "      <td>...</td>\n",
       "      <td>...</td>\n",
       "      <td>...</td>\n",
       "      <td>...</td>\n",
       "      <td>...</td>\n",
       "      <td>...</td>\n",
       "      <td>...</td>\n",
       "      <td>...</td>\n",
       "      <td>...</td>\n",
       "      <td>...</td>\n",
       "      <td>...</td>\n",
       "      <td>...</td>\n",
       "      <td>...</td>\n",
       "      <td>...</td>\n",
       "      <td>...</td>\n",
       "      <td>...</td>\n",
       "      <td>...</td>\n",
       "      <td>...</td>\n",
       "      <td>...</td>\n",
       "    </tr>\n",
       "    <tr>\n",
       "      <th>2020-12-25</th>\n",
       "      <td>-0.021164</td>\n",
       "      <td>-0.029022</td>\n",
       "      <td>0.011818</td>\n",
       "      <td>-0.020966</td>\n",
       "      <td>0.013231</td>\n",
       "      <td>0.011702</td>\n",
       "      <td>-0.004839</td>\n",
       "      <td>0.009970</td>\n",
       "      <td>0.003582</td>\n",
       "      <td>-0.003990</td>\n",
       "      <td>...</td>\n",
       "      <td>-0.011573</td>\n",
       "      <td>0.011911</td>\n",
       "      <td>-0.008802</td>\n",
       "      <td>-0.016942</td>\n",
       "      <td>-0.005540</td>\n",
       "      <td>0.007277</td>\n",
       "      <td>-0.023442</td>\n",
       "      <td>0.024722</td>\n",
       "      <td>0.031327</td>\n",
       "      <td>-0.008360</td>\n",
       "    </tr>\n",
       "    <tr>\n",
       "      <th>2020-12-28</th>\n",
       "      <td>-0.020286</td>\n",
       "      <td>-0.030524</td>\n",
       "      <td>0.016267</td>\n",
       "      <td>-0.029868</td>\n",
       "      <td>0.010553</td>\n",
       "      <td>0.011844</td>\n",
       "      <td>-0.008037</td>\n",
       "      <td>0.015832</td>\n",
       "      <td>0.004200</td>\n",
       "      <td>-0.005574</td>\n",
       "      <td>...</td>\n",
       "      <td>-0.014619</td>\n",
       "      <td>0.012751</td>\n",
       "      <td>-0.002156</td>\n",
       "      <td>-0.007964</td>\n",
       "      <td>-0.007808</td>\n",
       "      <td>0.004545</td>\n",
       "      <td>-0.025220</td>\n",
       "      <td>0.024594</td>\n",
       "      <td>0.035923</td>\n",
       "      <td>-0.003988</td>\n",
       "    </tr>\n",
       "    <tr>\n",
       "      <th>2020-12-29</th>\n",
       "      <td>-0.019678</td>\n",
       "      <td>-0.030505</td>\n",
       "      <td>0.019253</td>\n",
       "      <td>-0.035091</td>\n",
       "      <td>0.010955</td>\n",
       "      <td>0.012191</td>\n",
       "      <td>-0.008987</td>\n",
       "      <td>0.020849</td>\n",
       "      <td>0.004946</td>\n",
       "      <td>-0.007327</td>\n",
       "      <td>...</td>\n",
       "      <td>-0.015583</td>\n",
       "      <td>0.014918</td>\n",
       "      <td>0.000536</td>\n",
       "      <td>-0.002601</td>\n",
       "      <td>-0.012652</td>\n",
       "      <td>0.007980</td>\n",
       "      <td>-0.022680</td>\n",
       "      <td>0.026636</td>\n",
       "      <td>0.038672</td>\n",
       "      <td>0.001448</td>\n",
       "    </tr>\n",
       "    <tr>\n",
       "      <th>2020-12-30</th>\n",
       "      <td>-0.018933</td>\n",
       "      <td>-0.029751</td>\n",
       "      <td>0.022602</td>\n",
       "      <td>-0.039357</td>\n",
       "      <td>0.011798</td>\n",
       "      <td>0.012336</td>\n",
       "      <td>-0.009554</td>\n",
       "      <td>0.026097</td>\n",
       "      <td>0.005763</td>\n",
       "      <td>-0.011588</td>\n",
       "      <td>...</td>\n",
       "      <td>-0.014268</td>\n",
       "      <td>0.016824</td>\n",
       "      <td>0.003429</td>\n",
       "      <td>-0.000099</td>\n",
       "      <td>-0.012142</td>\n",
       "      <td>0.008434</td>\n",
       "      <td>-0.021555</td>\n",
       "      <td>0.028203</td>\n",
       "      <td>0.040622</td>\n",
       "      <td>0.006585</td>\n",
       "    </tr>\n",
       "    <tr>\n",
       "      <th>2020-12-31</th>\n",
       "      <td>-0.018033</td>\n",
       "      <td>-0.024050</td>\n",
       "      <td>0.023141</td>\n",
       "      <td>-0.040825</td>\n",
       "      <td>0.016155</td>\n",
       "      <td>0.011802</td>\n",
       "      <td>-0.010477</td>\n",
       "      <td>0.032697</td>\n",
       "      <td>0.006569</td>\n",
       "      <td>-0.014415</td>\n",
       "      <td>...</td>\n",
       "      <td>-0.013416</td>\n",
       "      <td>0.017546</td>\n",
       "      <td>0.003245</td>\n",
       "      <td>0.000292</td>\n",
       "      <td>-0.010462</td>\n",
       "      <td>0.008737</td>\n",
       "      <td>-0.021598</td>\n",
       "      <td>0.027707</td>\n",
       "      <td>0.038110</td>\n",
       "      <td>0.003357</td>\n",
       "    </tr>\n",
       "  </tbody>\n",
       "</table>\n",
       "<p>2653 rows × 500 columns</p>\n",
       "</div>"
      ],
      "text/plain": [
       "            000009.SZ  000012.SZ  000021.SZ  000027.SZ  000028.SZ  000031.SZ  \\\n",
       "2010-02-02  -0.002909  -0.001858   0.004089  -0.000981  -0.044177   0.013109   \n",
       "2010-02-03  -0.004131  -0.003074   0.005916  -0.003084  -0.047806   0.010980   \n",
       "2010-02-04  -0.010157  -0.001923   0.008865  -0.003634  -0.046599   0.008418   \n",
       "2010-02-05  -0.015333  -0.000912   0.012307  -0.004790  -0.043074   0.005993   \n",
       "2010-02-08  -0.017936  -0.001128   0.012307  -0.005816  -0.036697   0.006069   \n",
       "...               ...        ...        ...        ...        ...        ...   \n",
       "2020-12-25  -0.021164  -0.029022   0.011818  -0.020966   0.013231   0.011702   \n",
       "2020-12-28  -0.020286  -0.030524   0.016267  -0.029868   0.010553   0.011844   \n",
       "2020-12-29  -0.019678  -0.030505   0.019253  -0.035091   0.010955   0.012191   \n",
       "2020-12-30  -0.018933  -0.029751   0.022602  -0.039357   0.011798   0.012336   \n",
       "2020-12-31  -0.018033  -0.024050   0.023141  -0.040825   0.016155   0.011802   \n",
       "\n",
       "            000039.SZ  000046.SZ  000050.SZ  000060.SZ  ...  688029.SH  \\\n",
       "2010-02-02  -0.012559  -0.006464  -0.006822   0.039905  ...        NaN   \n",
       "2010-02-03  -0.015025  -0.008957  -0.009744   0.037082  ...        NaN   \n",
       "2010-02-04  -0.015752  -0.009722  -0.015833   0.030980  ...        NaN   \n",
       "2010-02-05  -0.015294  -0.010377  -0.017172   0.025633  ...        NaN   \n",
       "2010-02-08  -0.015249        NaN  -0.022609   0.023156  ...        NaN   \n",
       "...               ...        ...        ...        ...  ...        ...   \n",
       "2020-12-25  -0.004839   0.009970   0.003582  -0.003990  ...  -0.011573   \n",
       "2020-12-28  -0.008037   0.015832   0.004200  -0.005574  ...  -0.014619   \n",
       "2020-12-29  -0.008987   0.020849   0.004946  -0.007327  ...  -0.015583   \n",
       "2020-12-30  -0.009554   0.026097   0.005763  -0.011588  ...  -0.014268   \n",
       "2020-12-31  -0.010477   0.032697   0.006569  -0.014415  ...  -0.013416   \n",
       "\n",
       "            688065.SH  688088.SH  688099.SH  688188.SH  688208.SH  688289.SH  \\\n",
       "2010-02-02        NaN        NaN        NaN        NaN        NaN        NaN   \n",
       "2010-02-03        NaN        NaN        NaN        NaN        NaN        NaN   \n",
       "2010-02-04        NaN        NaN        NaN        NaN        NaN        NaN   \n",
       "2010-02-05        NaN        NaN        NaN        NaN        NaN        NaN   \n",
       "2010-02-08        NaN        NaN        NaN        NaN        NaN        NaN   \n",
       "...               ...        ...        ...        ...        ...        ...   \n",
       "2020-12-25   0.011911  -0.008802  -0.016942  -0.005540   0.007277  -0.023442   \n",
       "2020-12-28   0.012751  -0.002156  -0.007964  -0.007808   0.004545  -0.025220   \n",
       "2020-12-29   0.014918   0.000536  -0.002601  -0.012652   0.007980  -0.022680   \n",
       "2020-12-30   0.016824   0.003429  -0.000099  -0.012142   0.008434  -0.021555   \n",
       "2020-12-31   0.017546   0.003245   0.000292  -0.010462   0.008737  -0.021598   \n",
       "\n",
       "            688321.SH  688521.SH  688536.SH  \n",
       "2010-02-02        NaN        NaN        NaN  \n",
       "2010-02-03        NaN        NaN        NaN  \n",
       "2010-02-04        NaN        NaN        NaN  \n",
       "2010-02-05        NaN        NaN        NaN  \n",
       "2010-02-08        NaN        NaN        NaN  \n",
       "...               ...        ...        ...  \n",
       "2020-12-25   0.024722   0.031327  -0.008360  \n",
       "2020-12-28   0.024594   0.035923  -0.003988  \n",
       "2020-12-29   0.026636   0.038672   0.001448  \n",
       "2020-12-30   0.028203   0.040622   0.006585  \n",
       "2020-12-31   0.027707   0.038110   0.003357  \n",
       "\n",
       "[2653 rows x 500 columns]"
      ]
     },
     "execution_count": 192,
     "metadata": {},
     "output_type": "execute_result"
    }
   ],
   "source": [
    "norm_sign = SW_signalgenerator(df, 5, 22)\n",
    "norm_sign"
   ]
  },
  {
   "cell_type": "markdown",
   "id": "2ca98096",
   "metadata": {},
   "source": [
    "### 2.2. Backtest Strategy"
   ]
  },
  {
   "cell_type": "code",
   "execution_count": 48,
   "id": "ed9ff429",
   "metadata": {},
   "outputs": [
    {
     "data": {
      "text/html": [
       "<div>\n",
       "<style scoped>\n",
       "    .dataframe tbody tr th:only-of-type {\n",
       "        vertical-align: middle;\n",
       "    }\n",
       "\n",
       "    .dataframe tbody tr th {\n",
       "        vertical-align: top;\n",
       "    }\n",
       "\n",
       "    .dataframe thead th {\n",
       "        text-align: right;\n",
       "    }\n",
       "</style>\n",
       "<table border=\"1\" class=\"dataframe\">\n",
       "  <thead>\n",
       "    <tr style=\"text-align: right;\">\n",
       "      <th></th>\n",
       "      <th>short stock</th>\n",
       "      <th>long stock</th>\n",
       "      <th>short position</th>\n",
       "      <th>long position</th>\n",
       "      <th>short change</th>\n",
       "      <th>long change</th>\n",
       "      <th>return</th>\n",
       "      <th>net worth</th>\n",
       "    </tr>\n",
       "  </thead>\n",
       "  <tbody>\n",
       "    <tr>\n",
       "      <th>2010-02-02</th>\n",
       "      <td>600546.SH</td>\n",
       "      <td>000998.SZ</td>\n",
       "      <td>0.051141</td>\n",
       "      <td>-0.068733</td>\n",
       "      <td>0.019442</td>\n",
       "      <td>0.025475</td>\n",
       "      <td>0.002745</td>\n",
       "      <td>1.002745</td>\n",
       "    </tr>\n",
       "    <tr>\n",
       "      <th>2010-02-03</th>\n",
       "      <td>300009.SZ</td>\n",
       "      <td>000998.SZ</td>\n",
       "      <td>0.05056</td>\n",
       "      <td>-0.069549</td>\n",
       "      <td>-0.013708</td>\n",
       "      <td>-0.014002</td>\n",
       "      <td>-0.001667</td>\n",
       "      <td>1.001074</td>\n",
       "    </tr>\n",
       "    <tr>\n",
       "      <th>2010-02-04</th>\n",
       "      <td>300009.SZ</td>\n",
       "      <td>000998.SZ</td>\n",
       "      <td>0.053872</td>\n",
       "      <td>-0.0685</td>\n",
       "      <td>0.01092</td>\n",
       "      <td>0.01924</td>\n",
       "      <td>0.001906</td>\n",
       "      <td>1.002982</td>\n",
       "    </tr>\n",
       "    <tr>\n",
       "      <th>2010-02-05</th>\n",
       "      <td>300017.SZ</td>\n",
       "      <td>600158.SH</td>\n",
       "      <td>0.058735</td>\n",
       "      <td>-0.067786</td>\n",
       "      <td>-0.002198</td>\n",
       "      <td>-0.097872</td>\n",
       "      <td>-0.006763</td>\n",
       "      <td>0.996198</td>\n",
       "    </tr>\n",
       "    <tr>\n",
       "      <th>2010-02-08</th>\n",
       "      <td>300017.SZ</td>\n",
       "      <td>600158.SH</td>\n",
       "      <td>0.059473</td>\n",
       "      <td>-0.065537</td>\n",
       "      <td>0.019509</td>\n",
       "      <td>0.009434</td>\n",
       "      <td>0.001779</td>\n",
       "      <td>0.99797</td>\n",
       "    </tr>\n",
       "    <tr>\n",
       "      <th>...</th>\n",
       "      <td>...</td>\n",
       "      <td>...</td>\n",
       "      <td>...</td>\n",
       "      <td>...</td>\n",
       "      <td>...</td>\n",
       "      <td>...</td>\n",
       "      <td>...</td>\n",
       "      <td>...</td>\n",
       "    </tr>\n",
       "    <tr>\n",
       "      <th>2020-12-25</th>\n",
       "      <td>002002.SZ</td>\n",
       "      <td>600006.SH</td>\n",
       "      <td>0.056569</td>\n",
       "      <td>-0.115383</td>\n",
       "      <td>0.026936</td>\n",
       "      <td>-0.02452</td>\n",
       "      <td>-0.001305</td>\n",
       "      <td>3.260692</td>\n",
       "    </tr>\n",
       "    <tr>\n",
       "      <th>2020-12-28</th>\n",
       "      <td>002002.SZ</td>\n",
       "      <td>600006.SH</td>\n",
       "      <td>0.0515</td>\n",
       "      <td>-0.104033</td>\n",
       "      <td>-0.016393</td>\n",
       "      <td>0.031694</td>\n",
       "      <td>0.002453</td>\n",
       "      <td>3.26869</td>\n",
       "    </tr>\n",
       "    <tr>\n",
       "      <th>2020-12-29</th>\n",
       "      <td>300182.SZ</td>\n",
       "      <td>600006.SH</td>\n",
       "      <td>0.057356</td>\n",
       "      <td>-0.091545</td>\n",
       "      <td>-0.082386</td>\n",
       "      <td>-0.029661</td>\n",
       "      <td>-0.007441</td>\n",
       "      <td>3.244369</td>\n",
       "    </tr>\n",
       "    <tr>\n",
       "      <th>2020-12-30</th>\n",
       "      <td>002174.SZ</td>\n",
       "      <td>600316.SH</td>\n",
       "      <td>0.05582</td>\n",
       "      <td>-0.079567</td>\n",
       "      <td>0.075795</td>\n",
       "      <td>0.077083</td>\n",
       "      <td>0.010364</td>\n",
       "      <td>3.277994</td>\n",
       "    </tr>\n",
       "    <tr>\n",
       "      <th>2020-12-31</th>\n",
       "      <td>002174.SZ</td>\n",
       "      <td>600316.SH</td>\n",
       "      <td>0.054967</td>\n",
       "      <td>-0.086059</td>\n",
       "      <td>-0.00303</td>\n",
       "      <td>0.1</td>\n",
       "      <td>0.008439</td>\n",
       "      <td>3.305658</td>\n",
       "    </tr>\n",
       "  </tbody>\n",
       "</table>\n",
       "<p>2653 rows × 8 columns</p>\n",
       "</div>"
      ],
      "text/plain": [
       "           short stock long stock short position long position short change  \\\n",
       "2010-02-02   600546.SH  000998.SZ       0.051141     -0.068733     0.019442   \n",
       "2010-02-03   300009.SZ  000998.SZ        0.05056     -0.069549    -0.013708   \n",
       "2010-02-04   300009.SZ  000998.SZ       0.053872       -0.0685      0.01092   \n",
       "2010-02-05   300017.SZ  600158.SH       0.058735     -0.067786    -0.002198   \n",
       "2010-02-08   300017.SZ  600158.SH       0.059473     -0.065537     0.019509   \n",
       "...                ...        ...            ...           ...          ...   \n",
       "2020-12-25   002002.SZ  600006.SH       0.056569     -0.115383     0.026936   \n",
       "2020-12-28   002002.SZ  600006.SH         0.0515     -0.104033    -0.016393   \n",
       "2020-12-29   300182.SZ  600006.SH       0.057356     -0.091545    -0.082386   \n",
       "2020-12-30   002174.SZ  600316.SH        0.05582     -0.079567     0.075795   \n",
       "2020-12-31   002174.SZ  600316.SH       0.054967     -0.086059     -0.00303   \n",
       "\n",
       "           long change    return net worth  \n",
       "2010-02-02    0.025475  0.002745  1.002745  \n",
       "2010-02-03   -0.014002 -0.001667  1.001074  \n",
       "2010-02-04     0.01924  0.001906  1.002982  \n",
       "2010-02-05   -0.097872 -0.006763  0.996198  \n",
       "2010-02-08    0.009434  0.001779   0.99797  \n",
       "...                ...       ...       ...  \n",
       "2020-12-25    -0.02452 -0.001305  3.260692  \n",
       "2020-12-28    0.031694  0.002453   3.26869  \n",
       "2020-12-29   -0.029661 -0.007441  3.244369  \n",
       "2020-12-30    0.077083  0.010364  3.277994  \n",
       "2020-12-31         0.1  0.008439  3.305658  \n",
       "\n",
       "[2653 rows x 8 columns]"
      ]
     },
     "execution_count": 48,
     "metadata": {},
     "output_type": "execute_result"
    }
   ],
   "source": [
    "#if choose only one stock to long and to short\n",
    "max_sign_daily = norm_sign.max(axis = 1)\n",
    "min_sign_daily = norm_sign.min(axis = 1)\n",
    "#there is no signal before 2.2\n",
    "def backtest1(df, norm_sign, date):\n",
    "    r = df.pct_change().loc[date:] #2月2日之后 每只股票每天收益率\n",
    "\n",
    "    b = pd.DataFrame(columns=['short stock','long stock', \n",
    "                              'short position', 'long position',\n",
    "                              'short change','long change','return', 'net worth'],index=norm_sign.index)\n",
    "    for idx in norm_sign.index:\n",
    "        # sale \n",
    "        b['short stock'].loc[idx] = norm_sign.loc[idx][norm_sign.loc[idx]==norm_sign.loc[idx].max()].index[0]\n",
    "        b['short position'].loc[idx] = norm_sign.loc[idx].max()\n",
    "        b['short change'].loc[idx] = r[b['short stock'].loc[idx]].loc[idx]\n",
    "        # buy\n",
    "        b['long stock'].loc[idx] = norm_sign.loc[idx][norm_sign.loc[idx]==norm_sign.loc[idx].min()].index[0]\n",
    "        b['long position'].loc[idx] = norm_sign.loc[idx].min()\n",
    "        b['long change'].loc[idx] = r[b['long stock'].loc[idx]].loc[idx]\n",
    "        # daily return\n",
    "        b['return'] = b['short change']*b['short position'] - b['long position']*b['long change']\n",
    "    b['net worth'] = (b['return']+1).cumprod()\n",
    "    \n",
    "    return b\n",
    "\n",
    "backtest1(df, norm_sign, '2010-02-02')    "
   ]
  },
  {
   "cell_type": "code",
   "execution_count": 283,
   "id": "dc1e4525",
   "metadata": {},
   "outputs": [
    {
     "data": {
      "text/html": [
       "<div>\n",
       "<style scoped>\n",
       "    .dataframe tbody tr th:only-of-type {\n",
       "        vertical-align: middle;\n",
       "    }\n",
       "\n",
       "    .dataframe tbody tr th {\n",
       "        vertical-align: top;\n",
       "    }\n",
       "\n",
       "    .dataframe thead th {\n",
       "        text-align: right;\n",
       "    }\n",
       "</style>\n",
       "<table border=\"1\" class=\"dataframe\">\n",
       "  <thead>\n",
       "    <tr style=\"text-align: right;\">\n",
       "      <th></th>\n",
       "      <th>return</th>\n",
       "      <th>net worth</th>\n",
       "    </tr>\n",
       "  </thead>\n",
       "  <tbody>\n",
       "    <tr>\n",
       "      <th>2010-02-02</th>\n",
       "      <td>0.0</td>\n",
       "      <td>1.0</td>\n",
       "    </tr>\n",
       "    <tr>\n",
       "      <th>2010-02-03</th>\n",
       "      <td>0.034758</td>\n",
       "      <td>1.034758</td>\n",
       "    </tr>\n",
       "    <tr>\n",
       "      <th>2010-02-04</th>\n",
       "      <td>-0.020611</td>\n",
       "      <td>1.01343</td>\n",
       "    </tr>\n",
       "    <tr>\n",
       "      <th>2010-02-05</th>\n",
       "      <td>-0.000121</td>\n",
       "      <td>1.013308</td>\n",
       "    </tr>\n",
       "    <tr>\n",
       "      <th>2010-02-08</th>\n",
       "      <td>0.01304</td>\n",
       "      <td>1.026521</td>\n",
       "    </tr>\n",
       "    <tr>\n",
       "      <th>...</th>\n",
       "      <td>...</td>\n",
       "      <td>...</td>\n",
       "    </tr>\n",
       "    <tr>\n",
       "      <th>2020-12-25</th>\n",
       "      <td>-0.04196</td>\n",
       "      <td>17.629371</td>\n",
       "    </tr>\n",
       "    <tr>\n",
       "      <th>2020-12-28</th>\n",
       "      <td>-0.036066</td>\n",
       "      <td>16.99355</td>\n",
       "    </tr>\n",
       "    <tr>\n",
       "      <th>2020-12-29</th>\n",
       "      <td>0.165721</td>\n",
       "      <td>19.809738</td>\n",
       "    </tr>\n",
       "    <tr>\n",
       "      <th>2020-12-30</th>\n",
       "      <td>-0.060614</td>\n",
       "      <td>18.608994</td>\n",
       "    </tr>\n",
       "    <tr>\n",
       "      <th>2020-12-31</th>\n",
       "      <td>-0.006213</td>\n",
       "      <td>18.49338</td>\n",
       "    </tr>\n",
       "  </tbody>\n",
       "</table>\n",
       "<p>2653 rows × 2 columns</p>\n",
       "</div>"
      ],
      "text/plain": [
       "              return  net worth\n",
       "2010-02-02       0.0        1.0\n",
       "2010-02-03  0.034758   1.034758\n",
       "2010-02-04 -0.020611    1.01343\n",
       "2010-02-05 -0.000121   1.013308\n",
       "2010-02-08   0.01304   1.026521\n",
       "...              ...        ...\n",
       "2020-12-25  -0.04196  17.629371\n",
       "2020-12-28 -0.036066   16.99355\n",
       "2020-12-29  0.165721  19.809738\n",
       "2020-12-30 -0.060614  18.608994\n",
       "2020-12-31 -0.006213   18.49338\n",
       "\n",
       "[2653 rows x 2 columns]"
      ]
     },
     "execution_count": 283,
     "metadata": {},
     "output_type": "execute_result"
    }
   ],
   "source": [
    "#if choose all stocks to long and short\n",
    "def backtest(df, norm_sign, costBp = 0):\n",
    "    r = df.pct_change()\n",
    "    a = pd.DataFrame(index = norm_sign.index, columns = ['return', 'net worth'])\n",
    "    cost = abs((norm_sign.shift(1)).diff())*costBp\n",
    "    cost[np.isnan(cost)] = 0\n",
    "    for i in a.index:\n",
    "        a['return'].loc[i] = ((norm_sign.shift(1).loc[i])*r.loc[i]).sum()\n",
    "    a['return']=a['return']-cost.sum(axis = 1)\n",
    "    a['net worth'] = (a['return'] +1).cumprod()\n",
    "    return a\n",
    "        \n",
    "backtest(df, norm_sign, 2.5*1e-4) "
   ]
  },
  {
   "cell_type": "markdown",
   "id": "b52b69a0",
   "metadata": {},
   "source": [
    "#### Calculating stats:"
   ]
  },
  {
   "cell_type": "code",
   "execution_count": 273,
   "id": "48f40053",
   "metadata": {},
   "outputs": [
    {
     "data": {
      "text/plain": [
       "0.39730098033379413"
      ]
     },
     "execution_count": 273,
     "metadata": {},
     "output_type": "execute_result"
    }
   ],
   "source": [
    "def annualreturn(networth):\n",
    "    network = networth[-1]-1\n",
    "        # annual return rate\n",
    "    period = len(networth)/252\n",
    "    return networth[-1]**(1/period) - 1\n",
    "annualreturn(backtest(df, norm_sign)['net worth'])"
   ]
  },
  {
   "cell_type": "code",
   "execution_count": 35,
   "id": "f5803729",
   "metadata": {},
   "outputs": [
    {
     "data": {
      "text/plain": [
       "0.8681048380749093"
      ]
     },
     "execution_count": 35,
     "metadata": {},
     "output_type": "execute_result"
    }
   ],
   "source": [
    "#sharpe ratio:\n",
    "def sharpe(return_list):\n",
    "    return np.sqrt(252) * (return_list.mean() - (0.05/252)) / return_list.std()\n",
    "\n",
    "sharpe(backtest(df, norm_sign)['return'])#0.8681048380749093"
   ]
  },
  {
   "cell_type": "code",
   "execution_count": 36,
   "id": "74d19de1",
   "metadata": {},
   "outputs": [
    {
     "data": {
      "text/plain": [
       "0.43802886592824686"
      ]
     },
     "execution_count": 36,
     "metadata": {},
     "output_type": "execute_result"
    }
   ],
   "source": [
    "#volatility:\n",
    "import math\n",
    "def volitility(return_list):\n",
    "    daily_volatility = return_list.std()\n",
    "    annual_volatility = math.sqrt(252) * daily_volatility \n",
    "    return annual_volatility\n",
    "volitility(backtest(df, norm_sign)['return'])#0.43802886592824686"
   ]
  },
  {
   "cell_type": "code",
   "execution_count": 37,
   "id": "2c8025ab",
   "metadata": {},
   "outputs": [
    {
     "data": {
      "text/plain": [
       "0.5600436015543598"
      ]
     },
     "execution_count": 37,
     "metadata": {},
     "output_type": "execute_result"
    }
   ],
   "source": [
    "#max Drawdown:\n",
    "def maxdrawdown(return_list):\n",
    "    \"\"\"maxdrawdown\"\"\"\n",
    "    maxac=np.zeros(len(return_list))\n",
    "    b=return_list[0]\n",
    "    for i in range(0,len(return_list)): #Goes over the list, when larger than the previous value, set b\n",
    "        if return_list[i]>b:\n",
    "            b=return_list[i]\n",
    "        maxac[i]=b\n",
    "    #print(maxac)\n",
    "    i=np.argmax((maxac-return_list)/maxac) #stop position\n",
    "    if i == 0:\n",
    "        return 0\n",
    "    j = np.argmax(return_list[:i])  #start position\n",
    "    maxdd = (return_list[j] - return_list[i]) / (return_list[j])\n",
    "    return maxdd\n",
    "maxdrawdown(backtest(df, norm_sign)['net worth'])\n",
    "#0.5600436015543598"
   ]
  },
  {
   "cell_type": "markdown",
   "id": "2e3f2726",
   "metadata": {},
   "source": [
    "### 2.3. Add Transaction Costs"
   ]
  },
  {
   "cell_type": "code",
   "execution_count": 309,
   "id": "6ba968ee",
   "metadata": {},
   "outputs": [],
   "source": [
    "#since we have already added the transaction cost as a factor, we just set the costBp to 0.0005 and check the result\n",
    "transaction_df = backtest(df, norm_sign, costBp = 0.00025)"
   ]
  },
  {
   "cell_type": "code",
   "execution_count": 275,
   "id": "5db1c7f9",
   "metadata": {},
   "outputs": [
    {
     "data": {
      "text/html": [
       "<div>\n",
       "<style scoped>\n",
       "    .dataframe tbody tr th:only-of-type {\n",
       "        vertical-align: middle;\n",
       "    }\n",
       "\n",
       "    .dataframe tbody tr th {\n",
       "        vertical-align: top;\n",
       "    }\n",
       "\n",
       "    .dataframe thead th {\n",
       "        text-align: right;\n",
       "    }\n",
       "</style>\n",
       "<table border=\"1\" class=\"dataframe\">\n",
       "  <thead>\n",
       "    <tr style=\"text-align: right;\">\n",
       "      <th></th>\n",
       "      <th>return</th>\n",
       "      <th>net worth</th>\n",
       "    </tr>\n",
       "  </thead>\n",
       "  <tbody>\n",
       "    <tr>\n",
       "      <th>2010-02-02</th>\n",
       "      <td>0.0</td>\n",
       "      <td>1.0</td>\n",
       "    </tr>\n",
       "    <tr>\n",
       "      <th>2010-02-03</th>\n",
       "      <td>0.034758</td>\n",
       "      <td>1.034758</td>\n",
       "    </tr>\n",
       "    <tr>\n",
       "      <th>2010-02-04</th>\n",
       "      <td>-0.020777</td>\n",
       "      <td>1.013259</td>\n",
       "    </tr>\n",
       "    <tr>\n",
       "      <th>2010-02-05</th>\n",
       "      <td>-0.000286</td>\n",
       "      <td>1.012969</td>\n",
       "    </tr>\n",
       "    <tr>\n",
       "      <th>2010-02-08</th>\n",
       "      <td>0.012877</td>\n",
       "      <td>1.026013</td>\n",
       "    </tr>\n",
       "    <tr>\n",
       "      <th>...</th>\n",
       "      <td>...</td>\n",
       "      <td>...</td>\n",
       "    </tr>\n",
       "    <tr>\n",
       "      <th>2020-12-25</th>\n",
       "      <td>-0.042318</td>\n",
       "      <td>9.641501</td>\n",
       "    </tr>\n",
       "    <tr>\n",
       "      <th>2020-12-28</th>\n",
       "      <td>-0.036388</td>\n",
       "      <td>9.290669</td>\n",
       "    </tr>\n",
       "    <tr>\n",
       "      <th>2020-12-29</th>\n",
       "      <td>0.165404</td>\n",
       "      <td>10.827382</td>\n",
       "    </tr>\n",
       "    <tr>\n",
       "      <th>2020-12-30</th>\n",
       "      <td>-0.060924</td>\n",
       "      <td>10.167739</td>\n",
       "    </tr>\n",
       "    <tr>\n",
       "      <th>2020-12-31</th>\n",
       "      <td>-0.006514</td>\n",
       "      <td>10.101508</td>\n",
       "    </tr>\n",
       "  </tbody>\n",
       "</table>\n",
       "<p>2653 rows × 2 columns</p>\n",
       "</div>"
      ],
      "text/plain": [
       "              return  net worth\n",
       "2010-02-02       0.0        1.0\n",
       "2010-02-03  0.034758   1.034758\n",
       "2010-02-04 -0.020777   1.013259\n",
       "2010-02-05 -0.000286   1.012969\n",
       "2010-02-08  0.012877   1.026013\n",
       "...              ...        ...\n",
       "2020-12-25 -0.042318   9.641501\n",
       "2020-12-28 -0.036388   9.290669\n",
       "2020-12-29  0.165404  10.827382\n",
       "2020-12-30 -0.060924  10.167739\n",
       "2020-12-31 -0.006514  10.101508\n",
       "\n",
       "[2653 rows x 2 columns]"
      ]
     },
     "execution_count": 275,
     "metadata": {},
     "output_type": "execute_result"
    }
   ],
   "source": [
    "transaction_df"
   ]
  },
  {
   "cell_type": "code",
   "execution_count": 277,
   "id": "869644ce",
   "metadata": {},
   "outputs": [
    {
     "data": {
      "text/plain": [
       "0.24567124498459414"
      ]
     },
     "execution_count": 277,
     "metadata": {},
     "output_type": "execute_result"
    }
   ],
   "source": [
    "annualreturn(transaction_df['net worth'])"
   ]
  },
  {
   "cell_type": "code",
   "execution_count": 278,
   "id": "b0024420",
   "metadata": {},
   "outputs": [
    {
     "data": {
      "text/plain": [
       "0.6056760340338915"
      ]
     },
     "execution_count": 278,
     "metadata": {},
     "output_type": "execute_result"
    }
   ],
   "source": [
    "sharpe(transaction_df['return'])#0.6056760340338915"
   ]
  },
  {
   "cell_type": "code",
   "execution_count": 281,
   "id": "fbedcdc0",
   "metadata": {},
   "outputs": [
    {
     "data": {
      "text/plain": [
       "0.6762881857188652"
      ]
     },
     "execution_count": 281,
     "metadata": {},
     "output_type": "execute_result"
    }
   ],
   "source": [
    "maxdrawdown(transaction_df['net worth'])#0.6762881857188652"
   ]
  },
  {
   "cell_type": "code",
   "execution_count": 282,
   "id": "99e86248",
   "metadata": {},
   "outputs": [
    {
     "data": {
      "text/plain": [
       "0.43808027414780876"
      ]
     },
     "execution_count": 282,
     "metadata": {},
     "output_type": "execute_result"
    }
   ],
   "source": [
    "volitility(transaction_df['return'])#0.43808027414780876"
   ]
  },
  {
   "cell_type": "code",
   "execution_count": 316,
   "id": "8aceb71b",
   "metadata": {},
   "outputs": [
    {
     "data": {
      "text/plain": [
       "Text(0, 0.5, 'Return')"
      ]
     },
     "execution_count": 316,
     "metadata": {},
     "output_type": "execute_result"
    },
    {
     "data": {
      "image/png": "[encoded data removed]",
      "text/plain": [
       "<Figure size 432x288 with 1 Axes>"
      ]
     },
     "metadata": {
      "needs_background": "light"
     },
     "output_type": "display_data"
    }
   ],
   "source": [
    "plt.plot(transaction_df['net worth'])\n",
    "plt.plot(backtest(df, norm_sign)['net worth'])\n",
    "plt.xlabel('Date')\n",
    "plt.ylabel('Return')"
   ]
  },
  {
   "cell_type": "markdown",
   "id": "22eece03",
   "metadata": {},
   "source": [
    "### 3.1. Risk-Weight Portfolio"
   ]
  },
  {
   "cell_type": "code",
   "execution_count": 284,
   "id": "1bde8df7",
   "metadata": {
    "scrolled": true
   },
   "outputs": [],
   "source": [
    "def risk_weight_adjustment(data,signal_df,window_size):\n",
    "    #using rolling 6-month volatility of daily returns\n",
    "    #window size = 120\n",
    "    #Adjusted normalized signal of stock i on day j = 0.5 * normalized signal for stock i and day j / volatility of stock i.\n",
    "    rolling_volatility = data.pct_change().rolling(window_size).std()*(252**0.5)\n",
    "    adjusted_normalized_signal = 0.5 * signal_df / rolling_volatility\n",
    "    adjusted_normalized_signal = adjusted_normalized_signal.fillna(0)\n",
    "    return adjusted_normalized_signal\n",
    "\n",
    "risk_weight = risk_weight_adjustment(df, norm_sign, 120) \n",
    "risk_weight = risk_weight.loc['2010-02-02':]#there is no data before 2010-02-02"
   ]
  },
  {
   "cell_type": "code",
   "execution_count": 285,
   "id": "120f7b17",
   "metadata": {},
   "outputs": [],
   "source": [
    "risk_weight_return = backtest(df, risk_weight)"
   ]
  },
  {
   "cell_type": "code",
   "execution_count": 286,
   "id": "c6848b3b",
   "metadata": {},
   "outputs": [
    {
     "data": {
      "text/plain": [
       "0.36569265501135884"
      ]
     },
     "execution_count": 286,
     "metadata": {},
     "output_type": "execute_result"
    }
   ],
   "source": [
    "annualreturn(risk_weight_return['net worth'])"
   ]
  },
  {
   "cell_type": "code",
   "execution_count": 126,
   "id": "1798c37d",
   "metadata": {},
   "outputs": [
    {
     "data": {
      "text/plain": [
       "0.4700005432213975"
      ]
     },
     "execution_count": 126,
     "metadata": {},
     "output_type": "execute_result"
    }
   ],
   "source": [
    "volitility(risk_weight_return['return'])#0.4700005432213975"
   ]
  },
  {
   "cell_type": "code",
   "execution_count": 127,
   "id": "9562888c",
   "metadata": {},
   "outputs": [
    {
     "data": {
      "text/plain": [
       "0.7948296214251303"
      ]
     },
     "execution_count": 127,
     "metadata": {},
     "output_type": "execute_result"
    }
   ],
   "source": [
    "sharpe(risk_weight_return['return'])#0.7948296214251303"
   ]
  },
  {
   "cell_type": "code",
   "execution_count": 128,
   "id": "706e8557",
   "metadata": {},
   "outputs": [
    {
     "data": {
      "text/plain": [
       "0.6591412981702156"
      ]
     },
     "execution_count": 128,
     "metadata": {},
     "output_type": "execute_result"
    }
   ],
   "source": [
    "maxdrawdown(risk_weight_return['net worth'])#0.6591412981702156"
   ]
  },
  {
   "cell_type": "markdown",
   "id": "5a205d89",
   "metadata": {},
   "source": [
    "Add transaction cost"
   ]
  },
  {
   "cell_type": "code",
   "execution_count": 289,
   "id": "a433707a",
   "metadata": {},
   "outputs": [
    {
     "data": {
      "text/plain": [
       "0.27454454781134263"
      ]
     },
     "execution_count": 289,
     "metadata": {},
     "output_type": "execute_result"
    }
   ],
   "source": [
    "risk_weight_return_cost = backtest(df, risk_weight, costBp = 0.00025)\n",
    "annualreturn(risk_weight_return_cost['net worth'])"
   ]
  },
  {
   "cell_type": "code",
   "execution_count": 290,
   "id": "78a3aa22",
   "metadata": {},
   "outputs": [
    {
     "data": {
      "text/plain": [
       "0.47006760756747007"
      ]
     },
     "execution_count": 290,
     "metadata": {},
     "output_type": "execute_result"
    }
   ],
   "source": [
    "volitility(risk_weight_return_cost['return'])#0.47006760756747007"
   ]
  },
  {
   "cell_type": "code",
   "execution_count": 291,
   "id": "327b17f5",
   "metadata": {},
   "outputs": [
    {
     "data": {
      "text/plain": [
       "0.6477752200257605"
      ]
     },
     "execution_count": 291,
     "metadata": {},
     "output_type": "execute_result"
    }
   ],
   "source": [
    "sharpe(risk_weight_return_cost['return'])#0.6477752200257605"
   ]
  },
  {
   "cell_type": "code",
   "execution_count": 292,
   "id": "17c42679",
   "metadata": {},
   "outputs": [
    {
     "data": {
      "text/plain": [
       "0.661296710987559"
      ]
     },
     "execution_count": 292,
     "metadata": {},
     "output_type": "execute_result"
    }
   ],
   "source": [
    "maxdrawdown(risk_weight_return_cost['net worth'])#0.661296710987559"
   ]
  },
  {
   "cell_type": "code",
   "execution_count": 315,
   "id": "c6d937b7",
   "metadata": {},
   "outputs": [
    {
     "data": {
      "text/plain": [
       "Text(0, 0.5, 'Return')"
      ]
     },
     "execution_count": 315,
     "metadata": {},
     "output_type": "execute_result"
    },
    {
     "data": {
      "image/png": "[encoded data removed]",
      "text/plain": [
       "<Figure size 432x288 with 1 Axes>"
      ]
     },
     "metadata": {
      "needs_background": "light"
     },
     "output_type": "display_data"
    }
   ],
   "source": [
    "plt.plot(risk_weight_return['net worth'])\n",
    "plt.plot(risk_weight_return_cost['net worth'])\n",
    "plt.xlabel('Date')\n",
    "plt.ylabel('Return')"
   ]
  },
  {
   "cell_type": "markdown",
   "id": "3bab3acb",
   "metadata": {},
   "source": [
    "### 3.2. Neutralize by Volatility Bucket"
   ]
  },
  {
   "cell_type": "code",
   "execution_count": 293,
   "id": "ced47dc0",
   "metadata": {},
   "outputs": [],
   "source": [
    "def bucketgenerator(df):\n",
    "    volatility_list = df.pct_change().std().dropna().sort_values()*math.sqrt(252)\n",
    "\n",
    "    Bucket_size = int(volatility_list.shape[0]/5)\n",
    "\n",
    "    Bucket_1 = df[volatility_list.index.values[:Bucket_size]]\n",
    "    Bucket_2 = df[volatility_list.index.values[Bucket_size:2*Bucket_size]]\n",
    "    Bucket_3 = df[volatility_list.index.values[2*Bucket_size:3*Bucket_size]]\n",
    "    Bucket_4 = df[volatility_list.index.values[3*Bucket_size:4*Bucket_size]]\n",
    "    Bucket_5 = df[volatility_list.index.values[4*Bucket_size:]]\n",
    "    \n",
    "    Bucket_1_signal = SW_signalgenerator(Bucket_1, 5, 22)\n",
    "    Bucket_2_signal = SW_signalgenerator(Bucket_2, 5, 22)\n",
    "    Bucket_3_signal = SW_signalgenerator(Bucket_3, 5, 22)\n",
    "    Bucket_4_signal = SW_signalgenerator(Bucket_4, 5, 22)\n",
    "    Bucket_5_signal = SW_signalgenerator(Bucket_5, 5, 22)\n",
    "    \n",
    "    Bucket_1_weight = risk_weight_adjustment(Bucket_1,Bucket_1_signal,120)\n",
    "    Bucket_2_weight = risk_weight_adjustment(Bucket_2,Bucket_2_signal,120)\n",
    "    Bucket_3_weight = risk_weight_adjustment(Bucket_3,Bucket_3_signal,120)\n",
    "    Bucket_4_weight = risk_weight_adjustment(Bucket_4,Bucket_4_signal,120)\n",
    "    Bucket_5_weight = risk_weight_adjustment(Bucket_5,Bucket_5_signal,120)\n",
    "    \n",
    "    final_return_table = pd.concat((Bucket_1_weight,Bucket_2_weight,Bucket_3_weight,Bucket_4_weight,Bucket_5_weight), axis = 1)\n",
    "    return final_return_table"
   ]
  },
  {
   "cell_type": "code",
   "execution_count": 299,
   "id": "9b2bd007",
   "metadata": {},
   "outputs": [],
   "source": [
    "neutralized_return = backtest(df, bucketgenerator(df))"
   ]
  },
  {
   "cell_type": "code",
   "execution_count": 300,
   "id": "ae934c73",
   "metadata": {},
   "outputs": [
    {
     "data": {
      "text/plain": [
       "0.499879543475241"
      ]
     },
     "execution_count": 300,
     "metadata": {},
     "output_type": "execute_result"
    }
   ],
   "source": [
    "annualreturn(neutralized_return['net worth'])"
   ]
  },
  {
   "cell_type": "code",
   "execution_count": 301,
   "id": "cfcb4504",
   "metadata": {},
   "outputs": [
    {
     "data": {
      "text/plain": [
       "0.43720928113398616"
      ]
     },
     "execution_count": 301,
     "metadata": {},
     "output_type": "execute_result"
    }
   ],
   "source": [
    "volitility(neutralized_return['return'])#0.43720928113398616"
   ]
  },
  {
   "cell_type": "code",
   "execution_count": 302,
   "id": "32ef659d",
   "metadata": {},
   "outputs": [
    {
     "data": {
      "text/plain": [
       "1.0327544233827877"
      ]
     },
     "execution_count": 302,
     "metadata": {},
     "output_type": "execute_result"
    }
   ],
   "source": [
    "sharpe(neutralized_return['return'])#1.0327544233827877"
   ]
  },
  {
   "cell_type": "code",
   "execution_count": 303,
   "id": "00e0bb5d",
   "metadata": {},
   "outputs": [
    {
     "data": {
      "text/plain": [
       "0.5531278250425873"
      ]
     },
     "execution_count": 303,
     "metadata": {},
     "output_type": "execute_result"
    }
   ],
   "source": [
    "maxdrawdown(neutralized_return['net worth'])#0.5531278250425873"
   ]
  },
  {
   "cell_type": "markdown",
   "id": "c2db67fe",
   "metadata": {},
   "source": [
    "add transaction cost"
   ]
  },
  {
   "cell_type": "code",
   "execution_count": 304,
   "id": "2ed97a37",
   "metadata": {},
   "outputs": [],
   "source": [
    "neutralized_return_cost = backtest(df, bucketgenerator(df), costBp = 0.00025)"
   ]
  },
  {
   "cell_type": "code",
   "execution_count": 305,
   "id": "75edab14",
   "metadata": {},
   "outputs": [
    {
     "data": {
      "text/plain": [
       "0.39205976754015337"
      ]
     },
     "execution_count": 305,
     "metadata": {},
     "output_type": "execute_result"
    }
   ],
   "source": [
    "annualreturn(neutralized_return_cost['net worth'])"
   ]
  },
  {
   "cell_type": "code",
   "execution_count": 306,
   "id": "13fe5399",
   "metadata": {},
   "outputs": [
    {
     "data": {
      "text/plain": [
       "0.4372697072507938"
      ]
     },
     "execution_count": 306,
     "metadata": {},
     "output_type": "execute_result"
    }
   ],
   "source": [
    "volitility(neutralized_return_cost['return'])#0.4372697072507938"
   ]
  },
  {
   "cell_type": "code",
   "execution_count": 307,
   "id": "dd01306c",
   "metadata": {},
   "outputs": [
    {
     "data": {
      "text/plain": [
       "0.8619100947694662"
      ]
     },
     "execution_count": 307,
     "metadata": {},
     "output_type": "execute_result"
    }
   ],
   "source": [
    "sharpe(neutralized_return_cost['return'])#0.8619100947694662"
   ]
  },
  {
   "cell_type": "code",
   "execution_count": 308,
   "id": "ab4be2f7",
   "metadata": {},
   "outputs": [
    {
     "data": {
      "text/plain": [
       "0.5771104163481029"
      ]
     },
     "execution_count": 308,
     "metadata": {},
     "output_type": "execute_result"
    }
   ],
   "source": [
    "maxdrawdown(neutralized_return_cost['net worth'])#0.5771104163481029"
   ]
  },
  {
   "cell_type": "code",
   "execution_count": 317,
   "id": "f2a19e6e",
   "metadata": {},
   "outputs": [
    {
     "data": {
      "text/plain": [
       "Text(0, 0.5, 'Return')"
      ]
     },
     "execution_count": 317,
     "metadata": {},
     "output_type": "execute_result"
    },
    {
     "data": {
      "image/png": "[encoded data removed]",
      "text/plain": [
       "<Figure size 432x288 with 1 Axes>"
      ]
     },
     "metadata": {
      "needs_background": "light"
     },
     "output_type": "display_data"
    }
   ],
   "source": [
    "plt.plot(neutralized_return['net worth'])\n",
    "plt.plot(neutralized_return_cost['net worth'])\n",
    "plt.xlabel('Date')\n",
    "plt.ylabel('Return')"
   ]
  },
  {
   "cell_type": "markdown",
   "id": "438a885a",
   "metadata": {},
   "source": [
    "### 3.3 Dynamic Volatility-Neutralization "
   ]
  },
  {
   "cell_type": "code",
   "execution_count": 218,
   "id": "273b8c89",
   "metadata": {},
   "outputs": [],
   "source": [
    "def bucketgenerator_rolling(df, window_size):\n",
    "    volatility_list = df.pct_change().rolling(window_size).std().dropna().sort_values()*math.sqrt(252)\n",
    "    #volatility_list = df.pct_change().std().dropna().sort_values()*math.sqrt(252)\n",
    "\n",
    "    Bucket_size = int(volatility_list.shape[0]/5)\n",
    "\n",
    "    Bucket_1 = df[volatility_list.index.values[:Bucket_size]]\n",
    "    Bucket_2 = df[volatility_list.index.values[Bucket_size:2*Bucket_size]]\n",
    "    Bucket_3 = df[volatility_list.index.values[2*Bucket_size:3*Bucket_size]]\n",
    "    Bucket_4 = df[volatility_list.index.values[3*Bucket_size:4*Bucket_size]]\n",
    "    Bucket_5 = df[volatility_list.index.values[4*Bucket_size:]]\n",
    "    \n",
    "    Bucket_1_signal = SW_signalgenerator(Bucket_1, 5, 22)\n",
    "    Bucket_2_signal = SW_signalgenerator(Bucket_2, 5, 22)\n",
    "    Bucket_3_signal = SW_signalgenerator(Bucket_3, 5, 22)\n",
    "    Bucket_4_signal = SW_signalgenerator(Bucket_4, 5, 22)\n",
    "    Bucket_5_signal = SW_signalgenerator(Bucket_5, 5, 22)\n",
    "    \n",
    "    Bucket_1_weight = risk_weight_adjustment(Bucket_1,Bucket_1_signal,120)\n",
    "    Bucket_2_weight = risk_weight_adjustment(Bucket_2,Bucket_2_signal,120)\n",
    "    Bucket_3_weight = risk_weight_adjustment(Bucket_3,Bucket_3_signal,120)\n",
    "    Bucket_4_weight = risk_weight_adjustment(Bucket_4,Bucket_4_signal,120)\n",
    "    Bucket_5_weight = risk_weight_adjustment(Bucket_5,Bucket_5_signal,120)\n",
    "    \n",
    "    final_return_table = pd.concat((Bucket_1_weight,Bucket_2_weight,Bucket_3_weight,Bucket_4_weight,Bucket_5_weight), axis = 1)\n",
    "    return final_return_table"
   ]
  },
  {
   "cell_type": "code",
   "execution_count": 219,
   "id": "4e4f6aac",
   "metadata": {},
   "outputs": [
    {
     "ename": "TypeError",
     "evalue": "sort_values() missing 1 required positional argument: 'by'",
     "output_type": "error",
     "traceback": [
      "\u001b[0;31m---------------------------------------------------------------------------\u001b[0m",
      "\u001b[0;31mTypeError\u001b[0m                                 Traceback (most recent call last)",
      "\u001b[0;32m/var/folders/6d/6m_mgv7n6g15n856xyw5dlfm0000gn/T/ipykernel_26504/244483149.py\u001b[0m in \u001b[0;36m<module>\u001b[0;34m\u001b[0m\n\u001b[0;32m----> 1\u001b[0;31m \u001b[0mneutralized_return\u001b[0m \u001b[0;34m=\u001b[0m \u001b[0mbacktest\u001b[0m\u001b[0;34m(\u001b[0m\u001b[0mdf\u001b[0m\u001b[0;34m,\u001b[0m \u001b[0mbucketgenerator_rolling\u001b[0m\u001b[0;34m(\u001b[0m\u001b[0mdf\u001b[0m\u001b[0;34m,\u001b[0m\u001b[0;36m120\u001b[0m\u001b[0;34m)\u001b[0m\u001b[0;34m)\u001b[0m\u001b[0;34m\u001b[0m\u001b[0;34m\u001b[0m\u001b[0m\n\u001b[0m",
      "\u001b[0;32m/var/folders/6d/6m_mgv7n6g15n856xyw5dlfm0000gn/T/ipykernel_26504/2763791390.py\u001b[0m in \u001b[0;36mbucketgenerator_rolling\u001b[0;34m(df, window_size)\u001b[0m\n\u001b[1;32m      1\u001b[0m \u001b[0;32mdef\u001b[0m \u001b[0mbucketgenerator_rolling\u001b[0m\u001b[0;34m(\u001b[0m\u001b[0mdf\u001b[0m\u001b[0;34m,\u001b[0m \u001b[0mwindow_size\u001b[0m\u001b[0;34m)\u001b[0m\u001b[0;34m:\u001b[0m\u001b[0;34m\u001b[0m\u001b[0;34m\u001b[0m\u001b[0m\n\u001b[0;32m----> 2\u001b[0;31m     \u001b[0mvolatility_list\u001b[0m \u001b[0;34m=\u001b[0m \u001b[0mdf\u001b[0m\u001b[0;34m.\u001b[0m\u001b[0mpct_change\u001b[0m\u001b[0;34m(\u001b[0m\u001b[0;34m)\u001b[0m\u001b[0;34m.\u001b[0m\u001b[0mrolling\u001b[0m\u001b[0;34m(\u001b[0m\u001b[0mwindow_size\u001b[0m\u001b[0;34m)\u001b[0m\u001b[0;34m.\u001b[0m\u001b[0mstd\u001b[0m\u001b[0;34m(\u001b[0m\u001b[0;34m)\u001b[0m\u001b[0;34m.\u001b[0m\u001b[0mdropna\u001b[0m\u001b[0;34m(\u001b[0m\u001b[0;34m)\u001b[0m\u001b[0;34m.\u001b[0m\u001b[0msort_values\u001b[0m\u001b[0;34m(\u001b[0m\u001b[0;34m)\u001b[0m\u001b[0;34m*\u001b[0m\u001b[0mmath\u001b[0m\u001b[0;34m.\u001b[0m\u001b[0msqrt\u001b[0m\u001b[0;34m(\u001b[0m\u001b[0;36m252\u001b[0m\u001b[0;34m)\u001b[0m\u001b[0;34m\u001b[0m\u001b[0;34m\u001b[0m\u001b[0m\n\u001b[0m\u001b[1;32m      3\u001b[0m     \u001b[0;31m#volatility_list = df.pct_change().std().dropna().sort_values()*math.sqrt(252)\u001b[0m\u001b[0;34m\u001b[0m\u001b[0;34m\u001b[0m\u001b[0m\n\u001b[1;32m      4\u001b[0m \u001b[0;34m\u001b[0m\u001b[0m\n\u001b[1;32m      5\u001b[0m     \u001b[0mBucket_size\u001b[0m \u001b[0;34m=\u001b[0m \u001b[0mint\u001b[0m\u001b[0;34m(\u001b[0m\u001b[0mvolatility_list\u001b[0m\u001b[0;34m.\u001b[0m\u001b[0mshape\u001b[0m\u001b[0;34m[\u001b[0m\u001b[0;36m0\u001b[0m\u001b[0;34m]\u001b[0m\u001b[0;34m/\u001b[0m\u001b[0;36m5\u001b[0m\u001b[0;34m)\u001b[0m\u001b[0;34m\u001b[0m\u001b[0;34m\u001b[0m\u001b[0m\n",
      "\u001b[0;32m~/opt/anaconda3/lib/python3.9/site-packages/pandas/util/_decorators.py\u001b[0m in \u001b[0;36mwrapper\u001b[0;34m(*args, **kwargs)\u001b[0m\n\u001b[1;32m    309\u001b[0m                     \u001b[0mstacklevel\u001b[0m\u001b[0;34m=\u001b[0m\u001b[0mstacklevel\u001b[0m\u001b[0;34m,\u001b[0m\u001b[0;34m\u001b[0m\u001b[0;34m\u001b[0m\u001b[0m\n\u001b[1;32m    310\u001b[0m                 )\n\u001b[0;32m--> 311\u001b[0;31m             \u001b[0;32mreturn\u001b[0m \u001b[0mfunc\u001b[0m\u001b[0;34m(\u001b[0m\u001b[0;34m*\u001b[0m\u001b[0margs\u001b[0m\u001b[0;34m,\u001b[0m \u001b[0;34m**\u001b[0m\u001b[0mkwargs\u001b[0m\u001b[0;34m)\u001b[0m\u001b[0;34m\u001b[0m\u001b[0;34m\u001b[0m\u001b[0m\n\u001b[0m\u001b[1;32m    312\u001b[0m \u001b[0;34m\u001b[0m\u001b[0m\n\u001b[1;32m    313\u001b[0m         \u001b[0;32mreturn\u001b[0m \u001b[0mwrapper\u001b[0m\u001b[0;34m\u001b[0m\u001b[0;34m\u001b[0m\u001b[0m\n",
      "\u001b[0;31mTypeError\u001b[0m: sort_values() missing 1 required positional argument: 'by'"
     ]
    }
   ],
   "source": [
    "neutralized_return = backtest(df, bucketgenerator_rolling(df,120))"
   ]
  }
 ],
 "metadata": {
  "kernelspec": {
   "display_name": "Python 3 (ipykernel)",
   "language": "python",
   "name": "python3"
  },
  "language_info": {
   "codemirror_mode": {
    "name": "ipython",
    "version": 3
   },
   "file_extension": ".py",
   "mimetype": "text/x-python",
   "name": "python",
   "nbconvert_exporter": "python",
   "pygments_lexer": "ipython3",
   "version": "3.9.7"
  }
 },
 "nbformat": 4,
 "nbformat_minor": 5
}
